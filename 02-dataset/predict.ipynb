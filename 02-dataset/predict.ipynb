{
 "cells": [
  {
   "cell_type": "code",
   "execution_count": 23,
   "metadata": {},
   "outputs": [],
   "source": [
    "import cv2\n",
    "import json\n",
    "from matplotlib import pyplot as plt\n",
    "import numpy as np\n",
    "import os\n",
    "\n",
    "# import a lot of things from keras:\n",
    "# sequential model\n",
    "from keras.models import Sequential\n",
    "\n",
    "# layers\n",
    "from keras.layers import Input, Dense, Dropout, Flatten, Conv2D, MaxPooling2D, RandomFlip, RandomRotation, RandomContrast, RandomBrightness\n",
    "\n",
    "# loss function\n",
    "from keras.metrics import categorical_crossentropy\n",
    "\n",
    "# callback functions\n",
    "from keras.callbacks import ReduceLROnPlateau, EarlyStopping\n",
    "\n",
    "# convert data to categorial vector representation\n",
    "from keras.utils import to_categorical\n",
    "\n",
    "# nice progress bar for loading data\n",
    "from tqdm.notebook import tqdm\n",
    "\n",
    "# helper function for train/test split\n",
    "from sklearn.model_selection import train_test_split\n",
    "\n",
    "# import confusion matrix helper function\n",
    "from sklearn.metrics import confusion_matrix, ConfusionMatrixDisplay"
   ]
  },
  {
   "cell_type": "code",
   "execution_count": 24,
   "metadata": {},
   "outputs": [],
   "source": [
    "IMG_SIZE = 64\n",
    "COLOR_CHANNELS = 1\n",
    "CONDITIONS = ['dislike', 'like', 'peace', 'rock', 'stop']\n",
    "PATH = '../../gesture_dataset_sample'"
   ]
  },
  {
   "cell_type": "code",
   "execution_count": 6,
   "metadata": {},
   "outputs": [],
   "source": [
    "def preprocess_image(img):\n",
    "    if COLOR_CHANNELS == 1:\n",
    "        img = cv2.cvtColor(img, cv2.COLOR_BGR2GRAY)\n",
    "    img_resized = cv2.resize(img, (IMG_SIZE, IMG_SIZE))\n",
    "    return img_resized"
   ]
  },
  {
   "attachments": {},
   "cell_type": "markdown",
   "metadata": {},
   "source": [
    "---\n",
    "## Load train and validation data"
   ]
  },
  {
   "cell_type": "code",
   "execution_count": 4,
   "metadata": {},
   "outputs": [],
   "source": [
    "annotations_train = dict()\n",
    "\n",
    "for condition in CONDITIONS:\n",
    "    with open(f'{PATH}/_annotations/{condition}.json') as f:\n",
    "        annotations_train[condition] = json.load(f)"
   ]
  },
  {
   "cell_type": "code",
   "execution_count": 7,
   "metadata": {},
   "outputs": [],
   "source": [
    "images = [] # stores actual image data\n",
    "labels = [] # stores labels (as integer - because this is what our network needs)\n",
    "label_names = [] # maps label ints to their actual categories so we can understand predictions later\n",
    "\n",
    "# loop over all conditions\n",
    "# loop over all files in the condition's directory\n",
    "# read the image and corresponding annotation\n",
    "# crop image to the region of interest\n",
    "# preprocess image\n",
    "# store preprocessed image and label in corresponding lists\n",
    "for condition in CONDITIONS:\n",
    "    for filename in os.listdir(f'{PATH}/{condition}'):\n",
    "        # extract unique ID from file name\n",
    "        UID = filename.split('.')[0]\n",
    "        img = cv2.imread(f'{PATH}/{condition}/{filename}')\n",
    "        \n",
    "        # get annotation from the dict we loaded earlier\n",
    "        try:\n",
    "            annotation = annotations_train[condition][UID]\n",
    "        except Exception as e:\n",
    "            print(e)\n",
    "            continue\n",
    "        \n",
    "        # iterate over all hands annotated in the image\n",
    "        for i, bbox in enumerate(annotation['bboxes']):\n",
    "            # annotated bounding boxes are in the range from 0 to 1\n",
    "            # therefore we have to scale them to the image size\n",
    "            x1 = int(bbox[0] * img.shape[1])\n",
    "            y1 = int(bbox[1] * img.shape[0])\n",
    "            w = int(bbox[2] * img.shape[1])\n",
    "            h = int(bbox[3] * img.shape[0])\n",
    "            x2 = x1 + w\n",
    "            y2 = y1 + h\n",
    "            \n",
    "            # crop image to the bounding box and apply pre-processing\n",
    "            crop = img[y1:y2, x1:x2]\n",
    "            preprocessed = preprocess_image(crop)\n",
    "            \n",
    "            # get the annotated hand's label\n",
    "            # if we have not seen this label yet, add it to the list of labels\n",
    "            label = annotation['labels'][i]\n",
    "            if label not in label_names and label:\n",
    "                label_names.append(label)\n",
    "            \n",
    "            label_index = label_names.index(label)\n",
    "            \n",
    "            images.append(preprocessed)\n",
    "            labels.append(label_index)"
   ]
  },
  {
   "cell_type": "code",
   "execution_count": 9,
   "metadata": {},
   "outputs": [
    {
     "name": "stdout",
     "output_type": "stream",
     "text": [
      "(1627, 64, 64, 1) (326, 64, 64, 1) (1627, 6) (326, 6)\n"
     ]
    }
   ],
   "source": [
    "X_train, X_val, y_train, y_val = train_test_split(images, labels, test_size=0.2, random_state=42)\n",
    "\n",
    "images = np.array(images).astype('float32')\n",
    "images = images / 255.\n",
    "\n",
    "X_val = np.array(X_val).astype('float32')\n",
    "X_val = X_val / 255.\n",
    "\n",
    "y_train_one_hot = to_categorical(labels)\n",
    "y_val_one_hot = to_categorical(y_val)\n",
    "\n",
    "train_label = y_train_one_hot\n",
    "val_label = y_val_one_hot\n",
    "\n",
    "images = images.reshape(-1, IMG_SIZE, IMG_SIZE, COLOR_CHANNELS)\n",
    "X_val = X_val.reshape(-1, IMG_SIZE, IMG_SIZE, COLOR_CHANNELS)"
   ]
  },
  {
   "attachments": {},
   "cell_type": "markdown",
   "metadata": {},
   "source": [
    "---\n",
    "## Build and train model"
   ]
  },
  {
   "cell_type": "code",
   "execution_count": 10,
   "metadata": {},
   "outputs": [
    {
     "name": "stderr",
     "output_type": "stream",
     "text": [
      "2023-06-11 18:57:28.039898: I tensorflow/compiler/xla/stream_executor/cuda/cuda_gpu_executor.cc:996] successful NUMA node read from SysFS had negative value (-1), but there must be at least one NUMA node, so returning NUMA node zero. See more at https://github.com/torvalds/linux/blob/v6.0/Documentation/ABI/testing/sysfs-bus-pci#L344-L355\n",
      "2023-06-11 18:57:28.516003: W tensorflow/core/common_runtime/gpu/gpu_device.cc:1956] Cannot dlopen some GPU libraries. Please make sure the missing libraries mentioned above are installed properly if you would like to use GPU. Follow the guide at https://www.tensorflow.org/install/gpu for how to download and setup the required libraries for your platform.\n",
      "Skipping registering GPU devices...\n"
     ]
    }
   ],
   "source": [
    "# variables for hyperparameters\n",
    "batch_size = 8\n",
    "epochs = 50\n",
    "num_classes = len(label_names)\n",
    "activation = 'relu'\n",
    "activation_conv = 'LeakyReLU'  # LeakyReLU\n",
    "layer_count = 2\n",
    "num_neurons = 64\n",
    "\n",
    "# define model structure\n",
    "# with keras, we can use a model's add() function to add layers to the network one by one\n",
    "model = Sequential()\n",
    "\n",
    "# data augmentation (this can also be done beforehand - but don't augment the test dataset!)\n",
    "model.add(RandomFlip('horizontal'))\n",
    "model.add(RandomContrast(0.1))\n",
    "#model.add(RandomBrightness(0.1))\n",
    "#model.add(RandomRotation(0.2))\n",
    "\n",
    "# first, we add some convolution layers followed by max pooling\n",
    "model.add(Conv2D(64, kernel_size=(9, 9), activation=activation_conv, input_shape=(IMG_SIZE, IMG_SIZE, COLOR_CHANNELS), padding='same'))\n",
    "model.add(MaxPooling2D(pool_size=(4, 4), padding='same'))\n",
    "\n",
    "model.add(Conv2D(32, (5, 5), activation=activation_conv, padding='same'))\n",
    "model.add(MaxPooling2D(pool_size=(3, 3), padding='same'))\n",
    "\n",
    "model.add(Conv2D(32, (3, 3), activation=activation_conv, padding='same'))\n",
    "model.add(MaxPooling2D(pool_size=(2, 2), padding='same'))\n",
    "\n",
    "# dropout layers can drop part of the data during each epoch - this prevents overfitting\n",
    "model.add(Dropout(0.2))\n",
    "\n",
    "# after the convolution layers, we have to flatten the data so it can be fed into fully connected layers\n",
    "model.add(Flatten())\n",
    "\n",
    "# add some fully connected layers (\"Dense\")\n",
    "for i in range(layer_count - 1):\n",
    "    model.add(Dense(num_neurons, activation=activation))\n",
    "\n",
    "model.add(Dense(num_neurons, activation=activation))\n",
    "\n",
    "# for classification, the last layer has to use the softmax activation function, which gives us probabilities for each category\n",
    "model.add(Dense(num_classes, activation='softmax'))\n",
    "\n",
    "# specify loss function, optimizer and evaluation metrics\n",
    "# for classification, categorial crossentropy is used as a loss function\n",
    "# use the adam optimizer unless you have a good reason not to\n",
    "model.compile(loss=categorical_crossentropy, optimizer=\"adam\", metrics=['accuracy'])\n",
    "\n",
    "# define callback functions that react to the model's behavior during training\n",
    "# in this example, we reduce the learning rate once we get stuck and early stopping\n",
    "# to cancel the training if there are no improvements for a certain amount of epochs\n",
    "reduce_lr = ReduceLROnPlateau(monitor='val_loss', factor=0.2, patience=2, min_lr=0.0001)\n",
    "stop_early = EarlyStopping(monitor='val_loss', patience=3)"
   ]
  },
  {
   "cell_type": "code",
   "execution_count": 11,
   "metadata": {},
   "outputs": [
    {
     "name": "stdout",
     "output_type": "stream",
     "text": [
      "Epoch 1/50\n",
      "204/204 [==============================] - 13s 54ms/step - loss: 1.7914 - accuracy: 0.2207 - val_loss: 1.7602 - val_accuracy: 0.2607 - lr: 0.0010\n",
      "Epoch 2/50\n",
      "204/204 [==============================] - 37s 179ms/step - loss: 1.5614 - accuracy: 0.3614 - val_loss: 1.2231 - val_accuracy: 0.5245 - lr: 0.0010\n",
      "Epoch 3/50\n",
      "204/204 [==============================] - 19s 95ms/step - loss: 1.0464 - accuracy: 0.6066 - val_loss: 0.6829 - val_accuracy: 0.7791 - lr: 0.0010\n",
      "Epoch 4/50\n",
      "204/204 [==============================] - 15s 74ms/step - loss: 0.6109 - accuracy: 0.7855 - val_loss: 0.5082 - val_accuracy: 0.8098 - lr: 0.0010\n",
      "Epoch 5/50\n",
      "204/204 [==============================] - 14s 67ms/step - loss: 0.4668 - accuracy: 0.8267 - val_loss: 0.3448 - val_accuracy: 0.8650 - lr: 0.0010\n",
      "Epoch 6/50\n",
      "204/204 [==============================] - 13s 63ms/step - loss: 0.3848 - accuracy: 0.8623 - val_loss: 0.3261 - val_accuracy: 0.8773 - lr: 0.0010\n",
      "Epoch 7/50\n",
      "204/204 [==============================] - 12s 59ms/step - loss: 0.3185 - accuracy: 0.8851 - val_loss: 0.2730 - val_accuracy: 0.9264 - lr: 0.0010\n",
      "Epoch 8/50\n",
      "204/204 [==============================] - 12s 58ms/step - loss: 0.2882 - accuracy: 0.9066 - val_loss: 0.1875 - val_accuracy: 0.9325 - lr: 0.0010\n",
      "Epoch 9/50\n",
      "204/204 [==============================] - 11s 56ms/step - loss: 0.2412 - accuracy: 0.9084 - val_loss: 0.2069 - val_accuracy: 0.9202 - lr: 0.0010\n",
      "Epoch 10/50\n",
      "204/204 [==============================] - 11s 54ms/step - loss: 0.2219 - accuracy: 0.9244 - val_loss: 0.1451 - val_accuracy: 0.9479 - lr: 0.0010\n",
      "Epoch 11/50\n",
      "204/204 [==============================] - 11s 55ms/step - loss: 0.1957 - accuracy: 0.9281 - val_loss: 0.0782 - val_accuracy: 0.9693 - lr: 0.0010\n",
      "Epoch 12/50\n",
      "204/204 [==============================] - 11s 54ms/step - loss: 0.2006 - accuracy: 0.9355 - val_loss: 0.1217 - val_accuracy: 0.9632 - lr: 0.0010\n",
      "Epoch 13/50\n",
      "204/204 [==============================] - 11s 54ms/step - loss: 0.1698 - accuracy: 0.9379 - val_loss: 0.1058 - val_accuracy: 0.9663 - lr: 0.0010\n",
      "Epoch 14/50\n",
      "204/204 [==============================] - 11s 54ms/step - loss: 0.0930 - accuracy: 0.9680 - val_loss: 0.0465 - val_accuracy: 0.9816 - lr: 2.0000e-04\n",
      "Epoch 15/50\n",
      "204/204 [==============================] - 11s 55ms/step - loss: 0.0721 - accuracy: 0.9785 - val_loss: 0.0486 - val_accuracy: 0.9877 - lr: 2.0000e-04\n",
      "Epoch 16/50\n",
      "204/204 [==============================] - 11s 56ms/step - loss: 0.0638 - accuracy: 0.9816 - val_loss: 0.0393 - val_accuracy: 0.9877 - lr: 2.0000e-04\n",
      "Epoch 17/50\n",
      "204/204 [==============================] - 12s 57ms/step - loss: 0.0573 - accuracy: 0.9828 - val_loss: 0.0350 - val_accuracy: 0.9908 - lr: 2.0000e-04\n",
      "Epoch 18/50\n",
      "204/204 [==============================] - 12s 56ms/step - loss: 0.0513 - accuracy: 0.9871 - val_loss: 0.0218 - val_accuracy: 0.9969 - lr: 2.0000e-04\n",
      "Epoch 19/50\n",
      "204/204 [==============================] - 11s 56ms/step - loss: 0.0493 - accuracy: 0.9865 - val_loss: 0.0352 - val_accuracy: 0.9939 - lr: 2.0000e-04\n",
      "Epoch 20/50\n",
      "204/204 [==============================] - 11s 55ms/step - loss: 0.0457 - accuracy: 0.9852 - val_loss: 0.0226 - val_accuracy: 0.9939 - lr: 2.0000e-04\n",
      "Epoch 21/50\n",
      "204/204 [==============================] - 11s 55ms/step - loss: 0.0416 - accuracy: 0.9859 - val_loss: 0.0152 - val_accuracy: 0.9969 - lr: 1.0000e-04\n",
      "Epoch 22/50\n",
      "204/204 [==============================] - 11s 56ms/step - loss: 0.0348 - accuracy: 0.9908 - val_loss: 0.0137 - val_accuracy: 1.0000 - lr: 1.0000e-04\n",
      "Epoch 23/50\n",
      "204/204 [==============================] - 11s 55ms/step - loss: 0.0329 - accuracy: 0.9883 - val_loss: 0.0123 - val_accuracy: 1.0000 - lr: 1.0000e-04\n",
      "Epoch 24/50\n",
      "204/204 [==============================] - 11s 54ms/step - loss: 0.0350 - accuracy: 0.9883 - val_loss: 0.0107 - val_accuracy: 1.0000 - lr: 1.0000e-04\n",
      "Epoch 25/50\n",
      "204/204 [==============================] - 11s 55ms/step - loss: 0.0200 - accuracy: 0.9951 - val_loss: 0.0120 - val_accuracy: 1.0000 - lr: 1.0000e-04\n",
      "Epoch 26/50\n",
      "204/204 [==============================] - 11s 55ms/step - loss: 0.0287 - accuracy: 0.9902 - val_loss: 0.0121 - val_accuracy: 1.0000 - lr: 1.0000e-04\n",
      "Epoch 27/50\n",
      "204/204 [==============================] - 11s 55ms/step - loss: 0.0256 - accuracy: 0.9920 - val_loss: 0.0125 - val_accuracy: 0.9969 - lr: 1.0000e-04\n"
     ]
    }
   ],
   "source": [
    "history = model.fit(\n",
    "    images,\n",
    "    train_label,\n",
    "    batch_size=batch_size,\n",
    "    epochs=epochs,\n",
    "    verbose=1,\n",
    "    validation_data=(X_val, val_label),\n",
    "    callbacks=[reduce_lr, stop_early]\n",
    ")"
   ]
  },
  {
   "cell_type": "code",
   "execution_count": 12,
   "metadata": {},
   "outputs": [
    {
     "name": "stdout",
     "output_type": "stream",
     "text": [
      "Model: \"sequential\"\n",
      "_________________________________________________________________\n",
      " Layer (type)                Output Shape              Param #   \n",
      "=================================================================\n",
      " random_flip (RandomFlip)    (None, 64, 64, 1)         0         \n",
      "                                                                 \n",
      " random_contrast (RandomCont  (None, 64, 64, 1)        0         \n",
      " rast)                                                           \n",
      "                                                                 \n",
      " conv2d (Conv2D)             (None, 64, 64, 64)        5248      \n",
      "                                                                 \n",
      " max_pooling2d (MaxPooling2D  (None, 16, 16, 64)       0         \n",
      " )                                                               \n",
      "                                                                 \n",
      " conv2d_1 (Conv2D)           (None, 16, 16, 32)        51232     \n",
      "                                                                 \n",
      " max_pooling2d_1 (MaxPooling  (None, 6, 6, 32)         0         \n",
      " 2D)                                                             \n",
      "                                                                 \n",
      " conv2d_2 (Conv2D)           (None, 6, 6, 32)          9248      \n",
      "                                                                 \n",
      " max_pooling2d_2 (MaxPooling  (None, 3, 3, 32)         0         \n",
      " 2D)                                                             \n",
      "                                                                 \n",
      " dropout (Dropout)           (None, 3, 3, 32)          0         \n",
      "                                                                 \n",
      " flatten (Flatten)           (None, 288)               0         \n",
      "                                                                 \n",
      " dense (Dense)               (None, 64)                18496     \n",
      "                                                                 \n",
      " dense_1 (Dense)             (None, 64)                4160      \n",
      "                                                                 \n",
      " dense_2 (Dense)             (None, 6)                 390       \n",
      "                                                                 \n",
      "=================================================================\n",
      "Total params: 88,774\n",
      "Trainable params: 88,774\n",
      "Non-trainable params: 0\n",
      "_________________________________________________________________\n"
     ]
    }
   ],
   "source": [
    "model.summary()"
   ]
  },
  {
   "cell_type": "code",
   "execution_count": 13,
   "metadata": {},
   "outputs": [
    {
     "name": "stderr",
     "output_type": "stream",
     "text": [
      "2023-06-11 19:03:17.194465: I tensorflow/core/common_runtime/executor.cc:1197] [/device:CPU:0] (DEBUG INFO) Executor start aborting (this does not indicate an error and you can ignore this message): INVALID_ARGUMENT: You must feed a value for placeholder tensor 'random_flip_input' with dtype float and shape [?,64,64,1]\n",
      "\t [[{{node random_flip_input}}]]\n",
      "2023-06-11 19:03:17.388867: I tensorflow/core/common_runtime/executor.cc:1197] [/device:CPU:0] (DEBUG INFO) Executor start aborting (this does not indicate an error and you can ignore this message): INVALID_ARGUMENT: You must feed a value for placeholder tensor 'inputs' with dtype float and shape [?,64,64,1]\n",
      "\t [[{{node inputs}}]]\n",
      "2023-06-11 19:03:17.433351: I tensorflow/core/common_runtime/executor.cc:1197] [/device:CPU:0] (DEBUG INFO) Executor start aborting (this does not indicate an error and you can ignore this message): INVALID_ARGUMENT: You must feed a value for placeholder tensor 'random_flip_input' with dtype float and shape [?,64,64,1]\n",
      "\t [[{{node random_flip_input}}]]\n",
      "2023-06-11 19:03:17.493244: I tensorflow/core/common_runtime/executor.cc:1197] [/device:CPU:0] (DEBUG INFO) Executor start aborting (this does not indicate an error and you can ignore this message): INVALID_ARGUMENT: You must feed a value for placeholder tensor 'inputs' with dtype float and shape [?,64,64,1]\n",
      "\t [[{{node inputs}}]]\n",
      "2023-06-11 19:03:17.541602: I tensorflow/core/common_runtime/executor.cc:1197] [/device:CPU:0] (DEBUG INFO) Executor start aborting (this does not indicate an error and you can ignore this message): INVALID_ARGUMENT: You must feed a value for placeholder tensor 'inputs' with dtype float and shape [?,3,3,32]\n",
      "\t [[{{node inputs}}]]\n",
      "2023-06-11 19:03:17.595263: I tensorflow/core/common_runtime/executor.cc:1197] [/device:CPU:0] (DEBUG INFO) Executor start aborting (this does not indicate an error and you can ignore this message): INVALID_ARGUMENT: You must feed a value for placeholder tensor 'inputs' with dtype float and shape [?,64,64,1]\n",
      "\t [[{{node inputs}}]]\n",
      "2023-06-11 19:03:18.027637: I tensorflow/core/common_runtime/executor.cc:1197] [/device:CPU:0] (DEBUG INFO) Executor start aborting (this does not indicate an error and you can ignore this message): INVALID_ARGUMENT: You must feed a value for placeholder tensor 'inputs' with dtype float and shape [?,64,64,1]\n",
      "\t [[{{node inputs}}]]\n",
      "2023-06-11 19:03:18.203225: I tensorflow/core/common_runtime/executor.cc:1197] [/device:CPU:0] (DEBUG INFO) Executor start aborting (this does not indicate an error and you can ignore this message): INVALID_ARGUMENT: You must feed a value for placeholder tensor 'inputs' with dtype float and shape [?,64,64,1]\n",
      "\t [[{{node inputs}}]]\n",
      "2023-06-11 19:03:18.400298: I tensorflow/core/common_runtime/executor.cc:1197] [/device:CPU:0] (DEBUG INFO) Executor start aborting (this does not indicate an error and you can ignore this message): INVALID_ARGUMENT: You must feed a value for placeholder tensor 'inputs' with dtype float and shape [?,3,3,32]\n",
      "\t [[{{node inputs}}]]\n",
      "WARNING:absl:Found untraced functions such as _jit_compiled_convolution_op, _jit_compiled_convolution_op, _jit_compiled_convolution_op, _update_step_xla, leaky_re_lu_layer_call_fn while saving (showing 5 of 10). These functions will not be directly callable after loading.\n"
     ]
    },
    {
     "name": "stdout",
     "output_type": "stream",
     "text": [
      "INFO:tensorflow:Assets written to: gesture_recognition_own/assets\n"
     ]
    },
    {
     "name": "stderr",
     "output_type": "stream",
     "text": [
      "INFO:tensorflow:Assets written to: gesture_recognition_own/assets\n"
     ]
    }
   ],
   "source": [
    "model.save('gesture_recognition_own')"
   ]
  },
  {
   "attachments": {},
   "cell_type": "markdown",
   "metadata": {},
   "source": [
    "---\n",
    "---"
   ]
  },
  {
   "attachments": {},
   "cell_type": "markdown",
   "metadata": {},
   "source": [
    "If you dont want to fit the model (again), just load it :)"
   ]
  },
  {
   "cell_type": "code",
   "execution_count": 27,
   "metadata": {},
   "outputs": [],
   "source": [
    "from keras.models import load_model\n",
    "model = load_model(\"gesture_recognition_own\")"
   ]
  },
  {
   "attachments": {},
   "cell_type": "markdown",
   "metadata": {},
   "source": [
    "---\n",
    "---"
   ]
  },
  {
   "attachments": {},
   "cell_type": "markdown",
   "metadata": {},
   "source": [
    "## Load test data\n",
    "Use own data set here"
   ]
  },
  {
   "cell_type": "code",
   "execution_count": 25,
   "metadata": {},
   "outputs": [],
   "source": [
    "annotations_test = dict()\n",
    "\n",
    "with open(f'annot_emmert.json') as f:\n",
    "    annotations_test = json.load(f)"
   ]
  },
  {
   "cell_type": "code",
   "execution_count": 28,
   "metadata": {},
   "outputs": [
    {
     "name": "stdout",
     "output_type": "stream",
     "text": [
      "'edfe9f8b-1e64-4096-bea6-6b247c23d337'\n",
      "'837e7e35-8b64-4310-8b18-1e269bf649c7'\n",
      "'57faaaca-e6b4-4b15-9b01-d2000b7922d9'\n",
      "'ad4eb3aa-11d6-4b0c-ba2b-c207b3714858'\n",
      "'1fc87099-6b91-4c0f-8971-0a2ea06bbc0a'\n",
      "'c91cd070-3f7a-4de2-b597-7cba60c9bbcd'\n",
      "'b13f05fd-5133-4f12-9ae8-3aecb4bb01d6'\n"
     ]
    }
   ],
   "source": [
    "X_test = [] # stores actual image data\n",
    "y_test = [] # stores labels (as integer - because this is what our network needs)\n",
    "\n",
    "# loop over all img files \n",
    "# read the image and corresponding annotation\n",
    "# crop image to the region of interest\n",
    "# preprocess image\n",
    "# store preprocessed image and label in corresponding lists\n",
    "PATH = 'images_resized'\n",
    "for filename in os.listdir(f'{PATH}'):\n",
    "    # extract unique ID from file name\n",
    "    UID = filename.split('.')[0]\n",
    "    img = cv2.imread(f'{PATH}/{filename}')\n",
    "    \n",
    "    # get annotation from the dict we loaded earlier\n",
    "    try:\n",
    "        annotation = annotations_test[UID]\n",
    "    except Exception as e:\n",
    "        print(e)\n",
    "        continue\n",
    "    \n",
    "    # iterate over all hands annotated in the image\n",
    "    for i, bbox in enumerate(annotation['bboxes']):\n",
    "        # annotated bounding boxes are in the range from 0 to 1\n",
    "        # therefore we have to scale them to the image size\n",
    "        x1 = int(bbox[0] * img.shape[1])\n",
    "        y1 = int(bbox[1] * img.shape[0])\n",
    "        w = int(bbox[2] * img.shape[1])\n",
    "        h = int(bbox[3] * img.shape[0])\n",
    "        x2 = x1 + w\n",
    "        y2 = y1 + h\n",
    "        \n",
    "        # crop image to the bounding box and apply pre-processing\n",
    "        crop = img[y1:y2, x1:x2]\n",
    "        preprocessed = preprocess_image(crop)\n",
    "        \n",
    "        # get the annotated hand's label\n",
    "        label = annotation['labels'][i]       \n",
    "        label_index = label_names.index(label)\n",
    "        \n",
    "        X_test.append(preprocessed)\n",
    "        y_test.append(label_index)\n"
   ]
  },
  {
   "cell_type": "code",
   "execution_count": 29,
   "metadata": {},
   "outputs": [],
   "source": [
    "X_test = np.array(X_test).astype('float32')\n",
    "X_test = X_test / 255.\n",
    "y_test_one_hot = to_categorical(y_test)\n",
    "test_label = y_test_one_hot\n",
    "X_test = X_test.reshape(-1, IMG_SIZE, IMG_SIZE, COLOR_CHANNELS)"
   ]
  },
  {
   "attachments": {},
   "cell_type": "markdown",
   "metadata": {},
   "source": [
    "---\n",
    "# Prediction for test data"
   ]
  },
  {
   "cell_type": "code",
   "execution_count": 30,
   "metadata": {},
   "outputs": [
    {
     "name": "stdout",
     "output_type": "stream",
     "text": [
      "1/1 [==============================] - 0s 123ms/step\n"
     ]
    },
    {
     "data": {
      "image/png": "[encoded data removed]",
      "text/plain": [
       "<Figure size 1000x1000 with 2 Axes>"
      ]
     },
     "metadata": {},
     "output_type": "display_data"
    }
   ],
   "source": [
    "# let the model make predictions for own image data\n",
    "y_predictions = model.predict(X_test)\n",
    "y_predictions = np.argmax(y_predictions, axis=1)\n",
    "\n",
    "conf_matrix = confusion_matrix(y_test, y_predictions)\n",
    "\n",
    "try:\n",
    "    fig = plt.figure(figsize=(10, 10))\n",
    "    ConfusionMatrixDisplay(conf_matrix, display_labels=label_names).plot(ax=plt.gca())\n",
    "    plt.xticks(rotation=90, ha='center')\n",
    "    pass\n",
    "except:\n",
    "    print(\"Ignoring no_gesture-label.\")"
   ]
  }
 ],
 "metadata": {
  "kernelspec": {
   "display_name": "Python 3",
   "language": "python",
   "name": "python3"
  },
  "language_info": {
   "codemirror_mode": {
    "name": "ipython",
    "version": 3
   },
   "file_extension": ".py",
   "mimetype": "text/x-python",
   "name": "python",
   "nbconvert_exporter": "python",
   "pygments_lexer": "ipython3",
   "version": "3.8.16"
  },
  "orig_nbformat": 4
 },
 "nbformat": 4,
 "nbformat_minor": 2
}
